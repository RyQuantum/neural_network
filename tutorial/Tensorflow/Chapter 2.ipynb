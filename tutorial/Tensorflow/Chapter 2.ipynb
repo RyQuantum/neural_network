{
 "cells": [
  {
   "cell_type": "code",
   "execution_count": 1,
   "metadata": {},
   "outputs": [],
   "source": [
    "import tensorflow as tf"
   ]
  },
  {
   "cell_type": "code",
   "execution_count": 2,
   "metadata": {},
   "outputs": [],
   "source": [
    "import pandas as pd\n",
    "import numpy as np\n",
    "import matplotlib.pyplot as plt\n",
    "%matplotlib inline"
   ]
  },
  {
   "cell_type": "code",
   "execution_count": 3,
   "metadata": {},
   "outputs": [],
   "source": [
    "data = pd.read_csv('../dataset/Advertising.csv')"
   ]
  },
  {
   "cell_type": "code",
   "execution_count": 4,
   "metadata": {},
   "outputs": [
    {
     "data": {
      "text/html": [
       "<div>\n",
       "<style scoped>\n",
       "    .dataframe tbody tr th:only-of-type {\n",
       "        vertical-align: middle;\n",
       "    }\n",
       "\n",
       "    .dataframe tbody tr th {\n",
       "        vertical-align: top;\n",
       "    }\n",
       "\n",
       "    .dataframe thead th {\n",
       "        text-align: right;\n",
       "    }\n",
       "</style>\n",
       "<table border=\"1\" class=\"dataframe\">\n",
       "  <thead>\n",
       "    <tr style=\"text-align: right;\">\n",
       "      <th></th>\n",
       "      <th>Unnamed: 0</th>\n",
       "      <th>TV</th>\n",
       "      <th>radio</th>\n",
       "      <th>newspaper</th>\n",
       "      <th>sales</th>\n",
       "    </tr>\n",
       "  </thead>\n",
       "  <tbody>\n",
       "    <tr>\n",
       "      <th>0</th>\n",
       "      <td>1</td>\n",
       "      <td>230.1</td>\n",
       "      <td>37.8</td>\n",
       "      <td>69.2</td>\n",
       "      <td>22.1</td>\n",
       "    </tr>\n",
       "    <tr>\n",
       "      <th>1</th>\n",
       "      <td>2</td>\n",
       "      <td>44.5</td>\n",
       "      <td>39.3</td>\n",
       "      <td>45.1</td>\n",
       "      <td>10.4</td>\n",
       "    </tr>\n",
       "    <tr>\n",
       "      <th>2</th>\n",
       "      <td>3</td>\n",
       "      <td>17.2</td>\n",
       "      <td>45.9</td>\n",
       "      <td>69.3</td>\n",
       "      <td>9.3</td>\n",
       "    </tr>\n",
       "    <tr>\n",
       "      <th>3</th>\n",
       "      <td>4</td>\n",
       "      <td>151.5</td>\n",
       "      <td>41.3</td>\n",
       "      <td>58.5</td>\n",
       "      <td>18.5</td>\n",
       "    </tr>\n",
       "    <tr>\n",
       "      <th>4</th>\n",
       "      <td>5</td>\n",
       "      <td>180.8</td>\n",
       "      <td>10.8</td>\n",
       "      <td>58.4</td>\n",
       "      <td>12.9</td>\n",
       "    </tr>\n",
       "  </tbody>\n",
       "</table>\n",
       "</div>"
      ],
      "text/plain": [
       "   Unnamed: 0     TV  radio  newspaper  sales\n",
       "0           1  230.1   37.8       69.2   22.1\n",
       "1           2   44.5   39.3       45.1   10.4\n",
       "2           3   17.2   45.9       69.3    9.3\n",
       "3           4  151.5   41.3       58.5   18.5\n",
       "4           5  180.8   10.8       58.4   12.9"
      ]
     },
     "execution_count": 4,
     "metadata": {},
     "output_type": "execute_result"
    }
   ],
   "source": [
    "data.head()"
   ]
  },
  {
   "cell_type": "code",
   "execution_count": 5,
   "metadata": {},
   "outputs": [
    {
     "data": {
      "text/plain": [
       "<matplotlib.collections.PathCollection at 0x125cbe26f70>"
      ]
     },
     "execution_count": 5,
     "metadata": {},
     "output_type": "execute_result"
    },
    {
     "data": {
      "image/png": "[encoded data removed]",
      "text/plain": [
       "<Figure size 432x288 with 1 Axes>"
      ]
     },
     "metadata": {
      "needs_background": "light"
     },
     "output_type": "display_data"
    }
   ],
   "source": [
    "plt.scatter(data.TV, data.sales)"
   ]
  },
  {
   "cell_type": "code",
   "execution_count": 6,
   "metadata": {},
   "outputs": [],
   "source": [
    "x = data.iloc[:, 1: -1]\n",
    "y = data.iloc[:, -1]"
   ]
  },
  {
   "cell_type": "code",
   "execution_count": 7,
   "metadata": {},
   "outputs": [],
   "source": [
    "model = tf.keras.Sequential([\n",
    "    tf.keras.layers.Dense(10, input_shape=(3,), activation='relu'),\n",
    "    tf.keras.layers.Dense(1)\n",
    "])"
   ]
  },
  {
   "cell_type": "code",
   "execution_count": 8,
   "metadata": {
    "scrolled": true
   },
   "outputs": [],
   "source": [
    "model.compile(optimizer='adam', loss='mse')"
   ]
  },
  {
   "cell_type": "code",
   "execution_count": 9,
   "metadata": {},
   "outputs": [
    {
     "name": "stdout",
     "output_type": "stream",
     "text": [
      "Epoch 1/100\n",
      "7/7 [==============================] - 0s 996us/step - loss: 483.9456\n",
      "Epoch 2/100\n",
      "7/7 [==============================] - 0s 833us/step - loss: 406.2934\n",
      "Epoch 3/100\n",
      "7/7 [==============================] - 0s 833us/step - loss: 344.9255\n",
      "Epoch 4/100\n",
      "7/7 [==============================] - 0s 832us/step - loss: 237.3649\n",
      "Epoch 5/100\n",
      "7/7 [==============================] - 0s 833us/step - loss: 181.7207\n",
      "Epoch 6/100\n",
      "7/7 [==============================] - 0s 833us/step - loss: 154.8459\n",
      "Epoch 7/100\n",
      "7/7 [==============================] - 0s 833us/step - loss: 142.0993\n",
      "Epoch 8/100\n",
      "7/7 [==============================] - 0s 832us/step - loss: 116.9204\n",
      "Epoch 9/100\n",
      "7/7 [==============================] - 0s 834us/step - loss: 107.1108\n",
      "Epoch 10/100\n",
      "7/7 [==============================] - 0s 833us/step - loss: 93.3871\n",
      "Epoch 11/100\n",
      "7/7 [==============================] - 0s 832us/step - loss: 85.1800\n",
      "Epoch 12/100\n",
      "7/7 [==============================] - 0s 833us/step - loss: 91.8770\n",
      "Epoch 13/100\n",
      "7/7 [==============================] - 0s 833us/step - loss: 83.0386\n",
      "Epoch 14/100\n",
      "7/7 [==============================] - 0s 833us/step - loss: 79.4429\n",
      "Epoch 15/100\n",
      "7/7 [==============================] - 0s 832us/step - loss: 81.0475\n",
      "Epoch 16/100\n",
      "7/7 [==============================] - 0s 833us/step - loss: 81.1319\n",
      "Epoch 17/100\n",
      "7/7 [==============================] - 0s 1ms/step - loss: 70.0077\n",
      "Epoch 18/100\n",
      "7/7 [==============================] - 0s 832us/step - loss: 69.8617\n",
      "Epoch 19/100\n",
      "7/7 [==============================] - 0s 833us/step - loss: 59.4237\n",
      "Epoch 20/100\n",
      "7/7 [==============================] - 0s 999us/step - loss: 57.0553\n",
      "Epoch 21/100\n",
      "7/7 [==============================] - 0s 833us/step - loss: 58.1334\n",
      "Epoch 22/100\n",
      "7/7 [==============================] - 0s 833us/step - loss: 57.1968\n",
      "Epoch 23/100\n",
      "7/7 [==============================] - 0s 833us/step - loss: 52.8104\n",
      "Epoch 24/100\n",
      "7/7 [==============================] - 0s 833us/step - loss: 49.7559\n",
      "Epoch 25/100\n",
      "7/7 [==============================] - 0s 833us/step - loss: 50.1019\n",
      "Epoch 26/100\n",
      "7/7 [==============================] - ETA: 0s - loss: 56.67 - 0s 833us/step - loss: 46.7724\n",
      "Epoch 27/100\n",
      "7/7 [==============================] - 0s 833us/step - loss: 44.0422\n",
      "Epoch 28/100\n",
      "7/7 [==============================] - 0s 834us/step - loss: 39.2746\n",
      "Epoch 29/100\n",
      "7/7 [==============================] - 0s 833us/step - loss: 37.8087\n",
      "Epoch 30/100\n",
      "7/7 [==============================] - 0s 834us/step - loss: 38.3289\n",
      "Epoch 31/100\n",
      "7/7 [==============================] - 0s 833us/step - loss: 40.5408\n",
      "Epoch 32/100\n",
      "7/7 [==============================] - 0s 833us/step - loss: 33.9277\n",
      "Epoch 33/100\n",
      "7/7 [==============================] - 0s 833us/step - loss: 37.1192\n",
      "Epoch 34/100\n",
      "7/7 [==============================] - 0s 834us/step - loss: 29.6540\n",
      "Epoch 35/100\n",
      "7/7 [==============================] - 0s 1ms/step - loss: 29.7487\n",
      "Epoch 36/100\n",
      "7/7 [==============================] - 0s 999us/step - loss: 27.7331\n",
      "Epoch 37/100\n",
      "7/7 [==============================] - 0s 833us/step - loss: 27.8684\n",
      "Epoch 38/100\n",
      "7/7 [==============================] - 0s 833us/step - loss: 25.7886\n",
      "Epoch 39/100\n",
      "7/7 [==============================] - 0s 833us/step - loss: 22.5486\n",
      "Epoch 40/100\n",
      "7/7 [==============================] - 0s 1000us/step - loss: 23.9922\n",
      "Epoch 41/100\n",
      "7/7 [==============================] - 0s 833us/step - loss: 23.1412\n",
      "Epoch 42/100\n",
      "7/7 [==============================] - 0s 832us/step - loss: 21.2757\n",
      "Epoch 43/100\n",
      "7/7 [==============================] - 0s 833us/step - loss: 20.4774\n",
      "Epoch 44/100\n",
      "7/7 [==============================] - 0s 833us/step - loss: 20.2357\n",
      "Epoch 45/100\n",
      "7/7 [==============================] - 0s 833us/step - loss: 17.9724\n",
      "Epoch 46/100\n",
      "7/7 [==============================] - 0s 1ms/step - loss: 18.6678\n",
      "Epoch 47/100\n",
      "7/7 [==============================] - 0s 834us/step - loss: 17.2267\n",
      "Epoch 48/100\n",
      "7/7 [==============================] - 0s 832us/step - loss: 17.8939\n",
      "Epoch 49/100\n",
      "7/7 [==============================] - 0s 833us/step - loss: 15.5032\n",
      "Epoch 50/100\n",
      "7/7 [==============================] - 0s 833us/step - loss: 15.0267\n",
      "Epoch 51/100\n",
      "7/7 [==============================] - 0s 834us/step - loss: 12.8646\n",
      "Epoch 52/100\n",
      "7/7 [==============================] - 0s 666us/step - loss: 14.5966\n",
      "Epoch 53/100\n",
      "7/7 [==============================] - 0s 832us/step - loss: 14.5881\n",
      "Epoch 54/100\n",
      "7/7 [==============================] - 0s 832us/step - loss: 13.7510\n",
      "Epoch 55/100\n",
      "7/7 [==============================] - 0s 833us/step - loss: 11.0930\n",
      "Epoch 56/100\n",
      "7/7 [==============================] - 0s 833us/step - loss: 11.1478\n",
      "Epoch 57/100\n",
      "7/7 [==============================] - 0s 667us/step - loss: 11.1411\n",
      "Epoch 58/100\n",
      "7/7 [==============================] - 0s 833us/step - loss: 12.5292\n",
      "Epoch 59/100\n",
      "7/7 [==============================] - 0s 832us/step - loss: 10.1874\n",
      "Epoch 60/100\n",
      "7/7 [==============================] - 0s 833us/step - loss: 9.3205\n",
      "Epoch 61/100\n",
      "7/7 [==============================] - 0s 833us/step - loss: 9.6876\n",
      "Epoch 62/100\n",
      "7/7 [==============================] - 0s 832us/step - loss: 8.4232\n",
      "Epoch 63/100\n",
      "7/7 [==============================] - 0s 833us/step - loss: 9.3916\n",
      "Epoch 64/100\n",
      "7/7 [==============================] - 0s 999us/step - loss: 8.9511\n",
      "Epoch 65/100\n",
      "7/7 [==============================] - 0s 998us/step - loss: 8.8669\n",
      "Epoch 66/100\n",
      "7/7 [==============================] - 0s 833us/step - loss: 8.0609\n",
      "Epoch 67/100\n",
      "7/7 [==============================] - 0s 833us/step - loss: 8.5807\n",
      "Epoch 68/100\n",
      "7/7 [==============================] - 0s 833us/step - loss: 7.9752\n",
      "Epoch 69/100\n",
      "7/7 [==============================] - 0s 833us/step - loss: 7.8635\n",
      "Epoch 70/100\n",
      "7/7 [==============================] - 0s 833us/step - loss: 7.5676\n",
      "Epoch 71/100\n",
      "7/7 [==============================] - 0s 832us/step - loss: 7.0576\n",
      "Epoch 72/100\n",
      "7/7 [==============================] - 0s 833us/step - loss: 6.8461\n",
      "Epoch 73/100\n",
      "7/7 [==============================] - 0s 833us/step - loss: 6.9548\n",
      "Epoch 74/100\n",
      "7/7 [==============================] - 0s 833us/step - loss: 6.9838\n",
      "Epoch 75/100\n",
      "7/7 [==============================] - 0s 832us/step - loss: 6.5964\n",
      "Epoch 76/100\n",
      "7/7 [==============================] - 0s 833us/step - loss: 6.3172\n",
      "Epoch 77/100\n",
      "7/7 [==============================] - 0s 1ms/step - loss: 5.8295\n",
      "Epoch 78/100\n",
      "7/7 [==============================] - 0s 833us/step - loss: 6.0550\n",
      "Epoch 79/100\n",
      "7/7 [==============================] - 0s 833us/step - loss: 5.9116\n",
      "Epoch 80/100\n",
      "7/7 [==============================] - 0s 834us/step - loss: 5.4590\n",
      "Epoch 81/100\n",
      "7/7 [==============================] - 0s 1000us/step - loss: 5.7994\n",
      "Epoch 82/100\n",
      "7/7 [==============================] - 0s 999us/step - loss: 5.7035\n",
      "Epoch 83/100\n",
      "7/7 [==============================] - 0s 834us/step - loss: 5.4199\n",
      "Epoch 84/100\n",
      "7/7 [==============================] - 0s 832us/step - loss: 5.1183\n",
      "Epoch 85/100\n",
      "7/7 [==============================] - 0s 833us/step - loss: 5.0319\n",
      "Epoch 86/100\n",
      "7/7 [==============================] - 0s 833us/step - loss: 4.5482\n",
      "Epoch 87/100\n",
      "7/7 [==============================] - 0s 835us/step - loss: 4.5901\n",
      "Epoch 88/100\n",
      "7/7 [==============================] - 0s 833us/step - loss: 5.3371\n",
      "Epoch 89/100\n",
      "7/7 [==============================] - 0s 834us/step - loss: 4.7854\n",
      "Epoch 90/100\n",
      "7/7 [==============================] - 0s 831us/step - loss: 4.4357\n",
      "Epoch 91/100\n",
      "7/7 [==============================] - 0s 834us/step - loss: 4.9646\n",
      "Epoch 92/100\n",
      "7/7 [==============================] - 0s 666us/step - loss: 4.4535\n",
      "Epoch 93/100\n",
      "7/7 [==============================] - 0s 832us/step - loss: 4.2429\n",
      "Epoch 94/100\n",
      "7/7 [==============================] - 0s 833us/step - loss: 4.0624\n",
      "Epoch 95/100\n",
      "7/7 [==============================] - 0s 833us/step - loss: 4.4288\n",
      "Epoch 96/100\n",
      "7/7 [==============================] - 0s 833us/step - loss: 4.4325\n",
      "Epoch 97/100\n",
      "7/7 [==============================] - 0s 832us/step - loss: 4.2662\n",
      "Epoch 98/100\n",
      "7/7 [==============================] - 0s 833us/step - loss: 4.4088\n",
      "Epoch 99/100\n",
      "7/7 [==============================] - 0s 832us/step - loss: 4.3559\n",
      "Epoch 100/100\n",
      "7/7 [==============================] - 0s 833us/step - loss: 3.8017\n"
     ]
    },
    {
     "data": {
      "text/plain": [
       "<tensorflow.python.keras.callbacks.History at 0x125cc17c4c0>"
      ]
     },
     "execution_count": 9,
     "metadata": {},
     "output_type": "execute_result"
    }
   ],
   "source": [
    "model.fit(x, y, epochs=100)"
   ]
  },
  {
   "cell_type": "code",
   "execution_count": 10,
   "metadata": {},
   "outputs": [],
   "source": [
    "test = data.iloc[:10, 1:-1]"
   ]
  },
  {
   "cell_type": "code",
   "execution_count": 11,
   "metadata": {},
   "outputs": [
    {
     "data": {
      "text/plain": [
       "array([[23.058617 ],\n",
       "       [10.619946 ],\n",
       "       [10.070027 ],\n",
       "       [19.561972 ],\n",
       "       [15.608457 ],\n",
       "       [10.79165  ],\n",
       "       [10.471241 ],\n",
       "       [10.999933 ],\n",
       "       [ 1.4292068],\n",
       "       [10.857288 ]], dtype=float32)"
      ]
     },
     "execution_count": 11,
     "metadata": {},
     "output_type": "execute_result"
    }
   ],
   "source": [
    "model.predict(test)"
   ]
  },
  {
   "cell_type": "code",
   "execution_count": 12,
   "metadata": {},
   "outputs": [
    {
     "data": {
      "text/plain": [
       "0    22.1\n",
       "1    10.4\n",
       "2     9.3\n",
       "3    18.5\n",
       "4    12.9\n",
       "5     7.2\n",
       "6    11.8\n",
       "7    13.2\n",
       "8     4.8\n",
       "9    10.6\n",
       "Name: sales, dtype: float64"
      ]
     },
     "execution_count": 12,
     "metadata": {},
     "output_type": "execute_result"
    }
   ],
   "source": [
    "data.iloc[:10, -1]"
   ]
  },
  {
   "cell_type": "code",
   "execution_count": null,
   "metadata": {},
   "outputs": [],
   "source": []
  }
 ],
 "metadata": {
  "kernelspec": {
   "display_name": "Python 3",
   "language": "python",
   "name": "python3"
  },
  "language_info": {
   "codemirror_mode": {
    "name": "ipython",
    "version": 3
   },
   "file_extension": ".py",
   "mimetype": "text/x-python",
   "name": "python",
   "nbconvert_exporter": "python",
   "pygments_lexer": "ipython3",
   "version": "3.8.5"
  }
 },
 "nbformat": 4,
 "nbformat_minor": 4
}
